{
 "cells": [
  {
   "cell_type": "code",
   "execution_count": null,
   "metadata": {},
   "outputs": [],
   "source": [
    "from scipy import ndimage, misc\n",
    "import numpy as np\n",
    "import os\n",
    "import cv2\n",
    "import matplotlib as plt\n",
    "import random\n",
    "%matplotlib inline\n",
    "\n",
    "train_path = \"/home/sanids/dataset/train\"\n",
    "val_path = \"/home/sanids/dataset/val\"\n",
    "test_path = \"/home/sanids/dataset/test\"\n",
    "\n",
    "#trainset\n",
    "images = os.listdir(train_path):\n",
    "\n",
    "for  in \n",
    "    \n",
    "    image_path = os.path.join(train_path, random.choice(images))\n",
    "    print(image_path)\n",
    "    image = cv2.imread(image_path)\n",
    "    RGB_img = cv2.cvtColor(image, cv2.COLOR_BGR2RGB)\n",
    "    plt.imshow(RGB_img)\n",
    "    \n",
    "    \n",
    "   \n",
    "   \n"
   ]
  },
  {
   "cell_type": "code",
   "execution_count": null,
   "metadata": {},
   "outputs": [],
   "source": []
  },
  {
   "cell_type": "code",
   "execution_count": null,
   "metadata": {},
   "outputs": [],
   "source": []
  }
 ],
 "metadata": {
  "kernelspec": {
   "display_name": "Python 3",
   "language": "python",
   "name": "python3"
  },
  "language_info": {
   "codemirror_mode": {
    "name": "ipython",
    "version": 3
   },
   "file_extension": ".py",
   "mimetype": "text/x-python",
   "name": "python",
   "nbconvert_exporter": "python",
   "pygments_lexer": "ipython3",
   "version": "3.7.4"
  }
 },
 "nbformat": 4,
 "nbformat_minor": 4
}
